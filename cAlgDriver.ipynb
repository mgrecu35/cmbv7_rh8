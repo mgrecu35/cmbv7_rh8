{
 "cells": [
  {
   "cell_type": "code",
   "execution_count": 1,
   "metadata": {},
   "outputs": [
    {
     "name": "stdout",
     "output_type": "stream",
     "text": [
      "['__doc__', '__f2py_numpy_version__', '__file__', '__loader__', '__name__', '__package__', '__spec__', '__version__', '_cAlg_error', 'init_random_seed', 'init_random_seed2', 'mainfort', 'pass_file_names', 'set_gmi_data']\n",
      " Random Seeds :      8099992           1\n",
      "           1\n",
      "\n",
      "\n",
      "           8\n",
      "imu:     1  mu:    -2.0000  mu_tab:    -2.0000\n",
      "   10.6499996    \n",
      "   18.7000008    \n",
      "   23.7999992    \n",
      "   35.5000000    \n",
      "   89.0000000    \n",
      "   165.500000    \n",
      "   183.300003    \n",
      "imu:     2  mu:    -1.0000  mu_tab:    -1.0000\n",
      "   10.6499996    \n",
      "   18.7000008    \n",
      "   23.7999992    \n",
      "   35.5000000    \n",
      "   89.0000000    \n",
      "   165.500000    \n",
      "   183.300003    \n",
      "imu:     3  mu:     0.0000  mu_tab:     0.0000\n",
      "   10.6499996    \n",
      "   18.7000008    \n",
      "   23.7999992    \n",
      "   35.5000000    \n",
      "   89.0000000    \n",
      "   165.500000    \n",
      "   183.300003    \n",
      "imu:     4  mu:     1.0000  mu_tab:     1.0000\n",
      "   10.6499996    \n",
      "   18.7000008    \n",
      "   23.7999992    \n",
      "   35.5000000    \n",
      "   89.0000000    \n",
      "   165.500000    \n",
      "   183.300003    \n",
      "imu:     5  mu:     2.0000  mu_tab:     2.0000\n",
      "   10.6499996    \n",
      "   18.7000008    \n",
      "   23.7999992    \n",
      "   35.5000000    \n",
      "   89.0000000    \n",
      "   165.500000    \n",
      "   183.300003    \n",
      "   10.0000000       19.0000000       22.0000000       37.0000000       85.0000000       165.500000       186.000000       190.000000    \n",
      "mu_nz:      6  mu_init:   -2.00  mu_interval:     1.0000\n",
      "d0_nx:    700  d0_init:  0.2000  d0_interval:   0.00543634\n",
      "height_ny:     51  height_init:     0.0  height_interval:  30.000000\n",
      "read the percentages in\n",
      " read the dm-nw data\n",
      " read the geodat data\n"
     ]
    }
   ],
   "source": [
    "import cAlg as cAlg\n",
    "print(dir(cAlg))\n",
    "cAlg.mainfort()"
   ]
  },
  {
   "cell_type": "code",
   "execution_count": 2,
   "metadata": {},
   "outputs": [
    {
     "name": "stdout",
     "output_type": "stream",
     "text": [
      " got before param_set\n",
      "(276, 221, 1)\n",
      "(276, 221, 1)\n",
      "(276, 221, 1)\n"
     ]
    }
   ],
   "source": [
    "f1C11='data/1C-CS-92W47N60W21N.GPM.GMI.XCAL2016-C.20241009-S035045-E035921.060269.V07B.HDF5'\n",
    "fDPR='data/2A-CS-92W47N60W21N.GPM.DPR.V9-20240130.20241009-S035207-E035919.060269.V07C.HDF5'\n",
    "f2AKu='data/2A-CS-92W47N60W21N.GPM.Ku.V9-20240130.20241009-S035207-E035919.060269.V07C.HDF5'\n",
    "f2ENv='data/2A-ENV.GPM.Ku.V9-20240130.20241009-S025626-E042939.060269.V07C.HDF5'\n",
    "from read_GMI import read_gmi\n",
    "import importlib\n",
    "importlib.reload(cAlg)\n",
    "gmi_data=read_gmi(f1C11)\n",
    "lon_s1, lat_s1, tc_S1, lon_s2, lat_s2, tc_S2, sc_lat, sc_lon, inc_angle_s1, inc_angle_s2, sun_glint_angle_s1,yy,mm,dd,jday=gmi_data\n",
    "\n",
    "cAlg.set_gmi_data(tc_S1.T,lat_s1.T,lon_s1.T,tc_S2.T,lat_s2.T,lon_s2.T,sc_lon,sc_lat,inc_angle_s1[:,:,0].T,inc_angle_s2[:,:,0].T,mm[0],jday[0])\n",
    "print(inc_angle_s1.shape)\n",
    "print(inc_angle_s2.shape)\n",
    "print(sun_glint_angle_s1.shape)"
   ]
  },
  {
   "cell_type": "code",
   "execution_count": 3,
   "metadata": {},
   "outputs": [
    {
     "name": "stdout",
     "output_type": "stream",
     "text": [
      "['__doc__', '__f2py_numpy_version__', '__file__', '__loader__', '__name__', '__package__', '__spec__', '__version__', '_cAlg_error', 'init_random_seed', 'init_random_seed2', 'mainfort', 'pass_file_names', 'set_gmi_data']\n"
     ]
    }
   ],
   "source": []
  }
 ],
 "metadata": {
  "kernelspec": {
   "display_name": "base",
   "language": "python",
   "name": "python3"
  },
  "language_info": {
   "codemirror_mode": {
    "name": "ipython",
    "version": 3
   },
   "file_extension": ".py",
   "mimetype": "text/x-python",
   "name": "python",
   "nbconvert_exporter": "python",
   "pygments_lexer": "ipython3",
   "version": "3.10.14"
  }
 },
 "nbformat": 4,
 "nbformat_minor": 2
}
