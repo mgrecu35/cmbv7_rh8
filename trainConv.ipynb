{
 "cells": [
  {
   "cell_type": "code",
   "execution_count": 1,
   "metadata": {},
   "outputs": [],
   "source": [
    "#ds=xr.Dataset({'zKuObs':zKuObs_Strat_xr,'zKaObs':zKaObs_Strat_xr,'binZeroDeg':binZeroDeg_Strat_xr,'pia_HB_DPR':pia_HB_DPR_strat_xr,'pia_HB_CMB':pia_HB_CMB_strat_xr,'binClutterFree':binClutterFree_Strat_xr,'binRealSurface':binRealSurface_Strat_xr,'jRay':jRay_Strat_xr,'logdNw':logdNw_Strat_xr,'binStormTop':binStormTop_Strat_xr,'nearSurfPrecipTotRate':nearSurfPrecipTotRate_Strat_xr})\n",
    "\n",
    "import numpy as np\n",
    "import netCDF4 as nc\n",
    "with nc.Dataset('data/convective_training_data.nc','r') as ncf:\n",
    "    zKuObs = ncf['zKuObs'][:]\n",
    "    zKaObs = ncf['zKaObs'][:]\n",
    "    binZeroDeg = ncf['binZeroDeg'][:]\n",
    "    pia_HB_DPR = ncf['pia_HB_DPR'][:]\n",
    "    pia_HB_CMB = ncf['pia_HB_CMB'][:]\n",
    "    binClutterFree = ncf['binClutterFree'][:]\n",
    "    binRealSurface = ncf['binRealSurface'][:]\n",
    "    jRay = ncf['jRay'][:]\n",
    "    logdNw= ncf['logdNw'][:]\n",
    "    binStormTop= ncf['binStormTop'][:]\n",
    "    nearSurfPrecipTotRate = ncf['nearSurfPrecipTotRate'][:]\n",
    "n_bins_L=[]\n"
   ]
  },
  {
   "cell_type": "code",
   "execution_count": 16,
   "metadata": {},
   "outputs": [
    {
     "name": "stdout",
     "output_type": "stream",
     "text": [
      "6.903089986991944\n"
     ]
    }
   ],
   "source": [
    "\n",
    "dn_mean=np.log10(0.08e8)\n",
    "print(dn_mean)\n"
   ]
  },
  {
   "cell_type": "code",
   "execution_count": 40,
   "metadata": {},
   "outputs": [
    {
     "name": "stdout",
     "output_type": "stream",
     "text": [
      "77324\n"
     ]
    }
   ],
   "source": [
    "dbinL=[]\n",
    "zmL=[]\n",
    "log10dNL=[]\n",
    "icount=0\n",
    "nSeqL=[]\n",
    "xL=[]\n",
    "yL=[]\n",
    "for i in range(zKaObs.shape[0]):\n",
    "    n_bins_prof=binClutterFree[i]-binStormTop[i]\n",
    "    n_bins_L.append(n_bins_prof)\n",
    "    top=binStormTop[i]\n",
    "    bot=binClutterFree[i]\n",
    "    top2=binStormTop[i]//2\n",
    "    bot2=binClutterFree[i]//2\n",
    "    zm1=np.log10((10**(0.1*zKuObs[i,2*top2:2*bot2][::2])+10**(0.1*zKuObs[i,2*top2:2*bot2+1][1::2])+1e-3)/2)*10\n",
    "    zm1[zm1<0]=0\n",
    "    zmL.extend(zm1)\n",
    "    log10dN_cmb=logdNw[i,top2:bot2]\n",
    "    log10dN_cmb[log10dN_cmb<3]=6.9\n",
    "    log10dNL.extend(log10dN_cmb-6.9)\n",
    "    dbin=(np.arange(top2,bot2)-binZeroDeg[i])\n",
    "    xL.append([(zm1-27)/8.,dbin/23.0])\n",
    "    yL.append([log10dN_cmb-6.9,pia_HB_CMB[i,0]])  \n",
    "    nSeqL.append((bot2-top2))\n",
    "    if bot2-top2>80:\n",
    "        print(bot2,top2)\n",
    "        stop\n",
    "    dbinL.extend(dbin/23)\n",
    "    if zm1.shape[0]==log10dN_cmb.shape[0]:\n",
    "        icount+=1\n",
    "print(icount)"
   ]
  },
  {
   "cell_type": "code",
   "execution_count": 72,
   "metadata": {},
   "outputs": [],
   "source": [
    "n_seq_max=(np.max(nSeqL))\n",
    "x_input_paddedL=[]\n",
    "y_output_paddedL=[]\n",
    "y_output_scalarL=[]\n",
    "n_seq_inputL=[]\n",
    "for i,nseq in enumerate(nSeqL):\n",
    "    if nseq<1:\n",
    "        continue\n",
    "    x1=np.zeros((n_seq_max,2))\n",
    "    x1[:nseq,0]=xL[i][0]\n",
    "    x1[:nseq,1]=xL[i][1]\n",
    "    x_input_paddedL.append(x1)\n",
    "    y1=np.zeros((n_seq_max,1))\n",
    "    y1[:nseq,0]=yL[i][0]\n",
    "    y_output_paddedL.append(y1)\n",
    "    y_output_scalarL.append(np.log10(1+yL[i][1])*3)\n",
    "    n_seq_inputL.append(nseq)"
   ]
  },
  {
   "cell_type": "code",
   "execution_count": 73,
   "metadata": {},
   "outputs": [
    {
     "name": "stdout",
     "output_type": "stream",
     "text": [
      "0.24349402008667048 0.2826326465218051\n"
     ]
    }
   ],
   "source": [
    "y_output_scalarL=np.array(y_output_scalarL)\n",
    "print(y_output_scalarL.mean(),y_output_scalarL.std())"
   ]
  },
  {
   "cell_type": "code",
   "execution_count": null,
   "metadata": {},
   "outputs": [],
   "source": []
  },
  {
   "cell_type": "code",
   "execution_count": 42,
   "metadata": {},
   "outputs": [
    {
     "name": "stdout",
     "output_type": "stream",
     "text": [
      "(77324, 63, 2)\n",
      "(77324, 63, 1)\n",
      "(77324, 1)\n"
     ]
    }
   ],
   "source": [
    "x_input_paddedL=np.array(x_input_paddedL)\n",
    "y_output_paddedL=np.array(y_output_paddedL)\n",
    "y_output_scalarL=np.array(y_output_scalarL)[:,np.newaxis]\n",
    "print(x_input_paddedL.shape)\n",
    "print(y_output_paddedL.shape)\n",
    "print(y_output_scalarL.shape)"
   ]
  },
  {
   "cell_type": "code",
   "execution_count": 57,
   "metadata": {},
   "outputs": [],
   "source": [
    "import torch\n",
    "import torch.nn as nn\n",
    "import torch.nn.utils.rnn as rnn_utils\n",
    "\n",
    "class LSTMPackedModelWithScalar(nn.Module):\n",
    "    def __init__(self, input_size, hidden_size, num_layers, output_size_seq, output_size_scalar):\n",
    "        super(LSTMPackedModelWithScalar, self).__init__()\n",
    "        self.lstm = nn.LSTM(input_size, hidden_size, num_layers, batch_first=True)\n",
    "        \n",
    "        # Fully connected layer for sequence output\n",
    "        self.fc_sequence = nn.Linear(hidden_size, output_size_seq)  \n",
    "        \n",
    "        # Fully connected layer for scalar output\n",
    "        self.fc_scalar = nn.Linear(hidden_size, output_size_scalar)\n",
    "\n",
    "    def forward(self, x, lengths):\n",
    "        # Pack the padded sequence\n",
    "        packed_input = rnn_utils.pack_padded_sequence(x, lengths, batch_first=True, enforce_sorted=False)\n",
    "        \n",
    "        # LSTM forward pass\n",
    "        packed_output, (hn, cn) = self.lstm(packed_input)\n",
    "        \n",
    "        # Unpack the sequence\n",
    "        output, _ = rnn_utils.pad_packed_sequence(packed_output, batch_first=True)\n",
    "        #output = packed_output.data\n",
    "        # Sequence prediction (for each time step)\n",
    "        seq_output = self.fc_sequence(output)\n",
    "        \n",
    "        # Scalar prediction (based on the last hidden state of LSTM)\n",
    "        # `hn` contains the hidden state for the last time step\n",
    "        # Alternatively, you could use the mean of hidden states: `hidden.mean(dim=1)`\n",
    "        scalar_output = self.fc_scalar(hn[-1])  # Take the hidden state of the last LSTM layer\n",
    "\n",
    "        return seq_output, scalar_output\n",
    "\n",
    "# Example usage:\n",
    "batch_size = 3\n",
    "seq_lengths = torch.tensor([4, 2, 1])  # Variable lengths of the sequences\n",
    "input_size = 2\n",
    "hidden_size = 10\n",
    "num_layers = 2\n",
    "output_size_seq = 1  # Sequence output size\n",
    "output_size_scalar = 1  # Scalar output size\n",
    "\n",
    "model = LSTMPackedModelWithScalar(input_size, hidden_size, num_layers, output_size_seq, output_size_scalar)\n"
   ]
  },
  {
   "cell_type": "code",
   "execution_count": 60,
   "metadata": {},
   "outputs": [
    {
     "name": "stdout",
     "output_type": "stream",
     "text": [
      "Sequence Output Shape: torch.Size([76868, 63, 1])\n",
      "Scalar Output Shape: torch.Size([76868, 1])\n"
     ]
    }
   ],
   "source": [
    "\n",
    "# Create a batch of padded inputs with variable lengths\n",
    "padded_input = torch.tensor(x_input_paddedL, dtype=torch.float32)\n",
    "seq_lengths = torch.tensor(n_seq_inputL)\n",
    "# Forward pass\n",
    "sequence_output, scalar_output = model(padded_input, seq_lengths)\n",
    "print(f\"Sequence Output Shape: {sequence_output.shape}\")  # (batch_size, max_seq_len, output_size_seq)\n",
    "print(f\"Scalar Output Shape: {scalar_output.shape}\")  # (batch_size, output_size_scalar)\n"
   ]
  },
  {
   "cell_type": "code",
   "execution_count": 66,
   "metadata": {},
   "outputs": [],
   "source": [
    "mask = torch.arange(seq_lengths.max()).expand(len(seq_lengths), seq_lengths.max()) < seq_lengths.unsqueeze(1)\n",
    "#print(mask.shape)\n",
    "#print(mask[0,:])\n",
    "sequence_output_2 = sequence_output*mask.unsqueeze(-1)\n",
    "#print(sequence_output_2[0,:])"
   ]
  },
  {
   "cell_type": "code",
   "execution_count": 69,
   "metadata": {},
   "outputs": [
    {
     "ename": "AssertionError",
     "evalue": "Size mismatch between tensors",
     "output_type": "error",
     "traceback": [
      "\u001b[0;31m---------------------------------------------------------------------------\u001b[0m",
      "\u001b[0;31mAssertionError\u001b[0m                            Traceback (most recent call last)",
      "Cell \u001b[0;32mIn[69], line 7\u001b[0m\n\u001b[1;32m      5\u001b[0m scalar_loss\u001b[38;5;241m=\u001b[39mnn\u001b[38;5;241m.\u001b[39mMSELoss()\n\u001b[1;32m      6\u001b[0m \u001b[38;5;66;03m# Create a DataLoader\u001b[39;00m\n\u001b[0;32m----> 7\u001b[0m dataset \u001b[38;5;241m=\u001b[39m \u001b[43mTensorDataset\u001b[49m\u001b[43m(\u001b[49m\u001b[43mpadded_input\u001b[49m\u001b[43m,\u001b[49m\u001b[43m \u001b[49m\u001b[43msequence_output\u001b[49m\u001b[43m,\u001b[49m\u001b[43m \u001b[49m\u001b[43mscalar_output\u001b[49m\u001b[43m,\u001b[49m\u001b[43m \u001b[49m\u001b[43mseq_lengths\u001b[49m\u001b[43m)\u001b[49m\n\u001b[1;32m      9\u001b[0m epochs\u001b[38;5;241m=\u001b[39m\u001b[38;5;241m10\u001b[39m\n\u001b[1;32m     10\u001b[0m batch_size\u001b[38;5;241m=\u001b[39m\u001b[38;5;241m64\u001b[39m\n",
      "File \u001b[0;32m~/miniforge3/lib/python3.10/site-packages/torch/utils/data/dataset.py:203\u001b[0m, in \u001b[0;36mTensorDataset.__init__\u001b[0;34m(self, *tensors)\u001b[0m\n\u001b[1;32m    202\u001b[0m \u001b[38;5;28;01mdef\u001b[39;00m \u001b[38;5;21m__init__\u001b[39m(\u001b[38;5;28mself\u001b[39m, \u001b[38;5;241m*\u001b[39mtensors: Tensor) \u001b[38;5;241m-\u001b[39m\u001b[38;5;241m>\u001b[39m \u001b[38;5;28;01mNone\u001b[39;00m:\n\u001b[0;32m--> 203\u001b[0m     \u001b[38;5;28;01massert\u001b[39;00m \u001b[38;5;28mall\u001b[39m(\n\u001b[1;32m    204\u001b[0m         tensors[\u001b[38;5;241m0\u001b[39m]\u001b[38;5;241m.\u001b[39msize(\u001b[38;5;241m0\u001b[39m) \u001b[38;5;241m==\u001b[39m tensor\u001b[38;5;241m.\u001b[39msize(\u001b[38;5;241m0\u001b[39m) \u001b[38;5;28;01mfor\u001b[39;00m tensor \u001b[38;5;129;01min\u001b[39;00m tensors\n\u001b[1;32m    205\u001b[0m     ), \u001b[38;5;124m\"\u001b[39m\u001b[38;5;124mSize mismatch between tensors\u001b[39m\u001b[38;5;124m\"\u001b[39m\n\u001b[1;32m    206\u001b[0m     \u001b[38;5;28mself\u001b[39m\u001b[38;5;241m.\u001b[39mtensors \u001b[38;5;241m=\u001b[39m tensors\n",
      "\u001b[0;31mAssertionError\u001b[0m: Size mismatch between tensors"
     ]
    }
   ],
   "source": [
    "from torch.utils.data import DataLoader, TensorDataset\n",
    "import torch.optim as optim\n",
    "\n",
    "sequence_loss=nn.MSELoss(reduction='none')\n",
    "scalar_loss=nn.MSELoss()\n",
    "# Create a DataLoader\n",
    "dataset = TensorDataset(padded_input, sequence_output, scalar_output, seq_lengths)\n",
    "\n",
    "epochs=10\n",
    "batch_size=64\n",
    "optimizer = optim.Adam(model.parameters(), lr=0.001)\n",
    "dataloader = DataLoader(dataset, batch_size=batch_size, shuffle=True)\n",
    "\n",
    "for epoch in range(epochs):\n",
    "    avg_loss = 0\n",
    "    icount=0\n",
    "    for i, (x_batch, y_seq_batch, y_scalar_batch, lengths) in enumerate(dataloader):\n",
    "        # Forward pass\n",
    "        seq_output, scalar_output = model(x_batch, lengths)\n",
    "        \n",
    "        # Calculate loss\n",
    "        print(seq_output.shape)\n",
    "        print(y_seq_batch.shape)\n",
    "        seq_loss = sequence_loss(seq_output, y_seq_batch)\n",
    "        mask1=tmask = torch.arange(seq_lengths.max()).expand(len(seq_lengths), seq_lengths.max()) < seq_lengths.unsqueeze(1)\n",
    "        sequence_loss = sequence_loss * mask.unsqueeze(-1)\n",
    "        sequence_loss = sequence_loss.sum() / mask1.sum()\n",
    "        scalar_loss = scalar_loss(scalar_output, y_scalar_batch)\n",
    "        loss = seq_loss.mean() + scalar_loss\n",
    "        \n",
    "        # Backward pass\n",
    "        optimizer.zero_grad()\n",
    "        loss.backward()\n",
    "        \n",
    "        # Update weights\n",
    "        optimizer.step()\n",
    "        avg_loss += loss.item()\n",
    "        icount+=1\n",
    "    \n",
    "    print(f\"Epoch {epoch}, Iteration {i}, Loss: {avg_loss/icount}\")"
   ]
  },
  {
   "cell_type": "code",
   "execution_count": 3,
   "metadata": {},
   "outputs": [
    {
     "data": {
      "image/png": "[encoded data removed]",
      "text/plain": [
       "<Figure size 640x480 with 1 Axes>"
      ]
     },
     "metadata": {},
     "output_type": "display_data"
    }
   ],
   "source": [
    "import matplotlib.pyplot as plt\n",
    "h1=plt.hist(n_bins_L)"
   ]
  }
 ],
 "metadata": {
  "kernelspec": {
   "display_name": "base",
   "language": "python",
   "name": "python3"
  },
  "language_info": {
   "codemirror_mode": {
    "name": "ipython",
    "version": 3
   },
   "file_extension": ".py",
   "mimetype": "text/x-python",
   "name": "python",
   "nbconvert_exporter": "python",
   "pygments_lexer": "ipython3",
   "version": "3.10.14"
  }
 },
 "nbformat": 4,
 "nbformat_minor": 2
}
